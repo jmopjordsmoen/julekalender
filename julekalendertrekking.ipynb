{
 "cells": [
  {
   "cell_type": "code",
   "execution_count": null,
   "id": "f485ca69-2068-4662-b41e-347643a5eb13",
   "metadata": {
    "tags": []
   },
   "outputs": [],
   "source": [
    "#oppdater de to første cellene\n",
    "#så kan man bare kjøre resten"
   ]
  },
  {
   "cell_type": "code",
   "execution_count": null,
   "id": "d6185d14-8c96-4a92-a65a-5fa62af533a1",
   "metadata": {
    "tags": []
   },
   "outputs": [],
   "source": [
    "#Oppdater listen slik at den inneholder alle som har vunnet\n",
    "tidligere_vinnere =  ['Eigil', 'Kristin', 'Jonas L', 'August', 'Mikael', 'Eigil', 'Iris', 'Jennifer', 'August', 'Tina', 'Jørgen', 'Sarah', 'Iris', 'Sarah', 'Joel', 'Joel']"
   ]
  },
  {
   "cell_type": "code",
   "execution_count": null,
   "id": "e89a51ca-9633-4580-bef4-a8b5075ba31c",
   "metadata": {
    "tags": []
   },
   "outputs": [],
   "source": [
    "#Inkluder alle som er tilstede\n",
    "dagens_tilstede = [\"Jørgen\", \"Eigil\",\"Iris\",\"Sarah\",\"August\",\"Joel\",\"Heidi\", \"Marianne\",\"Tina\",\"Jennifer\",\"Jonas L\"]"
   ]
  },
  {
   "cell_type": "code",
   "execution_count": null,
   "id": "89e68946-6d87-4c85-9416-7a0eced47072",
   "metadata": {
    "tags": []
   },
   "outputs": [],
   "source": [
    "alle_deltakere = [\n",
    "    \"Jørgen\", \"August\", \"Kjetil\", \"Joel\", \"Eigil\", \"Jonas L\", \"Sarah\", \"Jennifer\", \"Peder\", \"Kristin\", \"Tina\", \n",
    "    \"Martin\", \"Maria\", \"Heidi\", \"Thomas\", \"Marianne\", \"Karl Erik\", \"Iris\", \"Jonas B\", \"Samuel\", \"Ingvild\", \n",
    "    \"Marcela\", \"Mikael\", \"Ove\", \"Stian\"\n",
    "]"
   ]
  },
  {
   "cell_type": "code",
   "execution_count": null,
   "id": "0d459789-31c7-453b-801d-174098ea2ccb",
   "metadata": {
    "tags": []
   },
   "outputs": [],
   "source": [
    "import random\n",
    "import time\n",
    "from colorama import Fore, Style, init\n",
    "\n",
    "# Initialiser farger\n",
    "init(autoreset=True)\n",
    "\n",
    "class JulekalenderTrekning:\n",
    "    def __init__(self, deltakere, vinnere_historikk=None):\n",
    "        self.deltakere = {navn: 1.0 for navn in deltakere}\n",
    "        self.vinnere = []\n",
    "\n",
    "        if vinnere_historikk:\n",
    "            self.gjenopprett_vinnerhistorikk(vinnere_historikk)\n",
    "\n",
    "    def velg_tilstede(self, tilstede):\n",
    "        self.tilstede = {navn: self.deltakere[navn] for navn in tilstede if navn in self.deltakere}\n",
    "\n",
    "    def trekk_vinner(self):\n",
    "        if not self.tilstede:\n",
    "            print(\"Ingen tilstede for trekking!\")\n",
    "            return None\n",
    "\n",
    "        # Snurr hjul og velg en tilfeldig deltaker\n",
    "        navn = self.snurr_hjul(list(self.tilstede.keys()))\n",
    "\n",
    "        # Oppdater vekt for vinneren\n",
    "        self.deltakere[navn] *= 0.5\n",
    "        self.vinnere.append(navn)\n",
    "        return navn\n",
    "\n",
    "    def vis_vekter(self):\n",
    "        return self.deltakere\n",
    "\n",
    "    def hent_vinnere(self):\n",
    "        return self.vinnere\n",
    "\n",
    "    def gjenopprett_vinnerhistorikk(self, vinnere_historikk):\n",
    "        for vinner in vinnere_historikk:\n",
    "            if vinner in self.deltakere:\n",
    "                self.deltakere[vinner] *= 0.5\n",
    "        self.vinnere = vinnere_historikk[:]\n",
    "\n",
    "    def snurr_hjul(self, tilstede):\n",
    "        print(\"\\n🎡 Snurrer hjulet! 🎡\\n\")\n",
    "\n",
    "        # Hent vektene for deltakerne som er tilstede\n",
    "        vekter = [self.deltakere[navn] for navn in tilstede]\n",
    "\n",
    "        display_text = \"\"\n",
    "        for i in range(40):  # Øk antall iterasjoner for en lengre snurring\n",
    "            # Velg deltaker basert på vektene\n",
    "            valgt = random.choices(tilstede, weights=vekter, k=1)[0]\n",
    "\n",
    "            # Visualisering av spinnet\n",
    "            display_text = f\"{Fore.GREEN if i % 2 == 0 else Fore.RED}{Style.BRIGHT}--> {valgt} <--\"\n",
    "            print(f\"\\r{display_text.center(50)}\", end=\"\")\n",
    "            time.sleep(0.05 + i * 0.01)  # Øk pausen gradvis\n",
    "\n",
    "        print(f\"\\n\\n🎉 {Fore.YELLOW}{Style.BRIGHT}Vinneren er: {valgt}! 🎉\")\n",
    "        return valgt\n",
    "\n",
    "\n",
    "def vis_juletema():\n",
    "    print(\"\"\"\n",
    "        🎄 God Jul! 🎄\n",
    "        .      *    *           *.       *   .                      *     .\n",
    "                       .   .                   __   *    .     * .     *\n",
    "            *       *         *   .     .    _|__|_        *    __   .       *\n",
    "          .  *  /\\       /\\          *        ('')    *       _|__|_     .\n",
    "               /  \\   * /  \\  *          .  <( . )> *  .       ('')   *   *\n",
    "          *    /  \\     /  \\   .   *       _(__.__)_  _   ,--<(  . )>  .    .\n",
    "              /    \\   /    \\          *   |       |  )),`   (   .  )     *\n",
    "           *   `||` ..  `||`   . *.   ... ==========='`   ... '--`-` ... * \n",
    "        \n",
    "       🎅 MERRY CHRISTMAS! 🎁\n",
    "    \"\"\")\n",
    "\n",
    "\n",
    "\n",
    "\n",
    "\n",
    "\n",
    "# Initialiser kalenderen med historikk\n",
    "kalender = JulekalenderTrekning(alle_deltakere, vinnere_historikk=tidligere_vinnere)\n"
   ]
  },
  {
   "cell_type": "code",
   "execution_count": null,
   "id": "9a4630dd-9faf-4c24-9233-b87bff1143a2",
   "metadata": {
    "tags": []
   },
   "outputs": [],
   "source": [
    "vis_juletema()\n",
    "\n",
    "kalender.velg_tilstede(dagens_tilstede)\n",
    "\n",
    "vinner = kalender.trekk_vinner()\n",
    "if vinner:\n",
    "    print(f\"\\n{Fore.CYAN}{Style.BRIGHT}Dagens vinner er: {vinner}\\n\")\n",
    "\n",
    "print(\"Nåværende vekter:\", kalender.vis_vekter())\n",
    "print(\"Vinnere så langt:\", kalender.hent_vinnere())"
   ]
  },
  {
   "cell_type": "code",
   "execution_count": null,
   "id": "ff1c39f7-483c-4474-9b42-de1bf4a70865",
   "metadata": {
    "tags": []
   },
   "outputs": [],
   "source": []
  }
 ],
 "metadata": {
  "kernelspec": {
   "display_name": "Python 3 (ipykernel)",
   "language": "python",
   "name": "python3"
  },
  "language_info": {
   "codemirror_mode": {
    "name": "ipython",
    "version": 3
   },
   "file_extension": ".py",
   "mimetype": "text/x-python",
   "name": "python",
   "nbconvert_exporter": "python",
   "pygments_lexer": "ipython3",
   "version": "3.10.9"
  }
 },
 "nbformat": 4,
 "nbformat_minor": 5
}
