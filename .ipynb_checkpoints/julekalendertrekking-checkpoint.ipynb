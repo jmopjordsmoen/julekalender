{
 "cells": [
  {
   "cell_type": "code",
   "execution_count": 1,
   "id": "d6185d14-8c96-4a92-a65a-5fa62af533a1",
   "metadata": {
    "tags": []
   },
   "outputs": [],
   "source": [
    "# Tidligere vinnere (historikk)\n",
    "tidligere_vinnere =  ['Eigil', 'Kristin', 'Jonas L', 'August', 'Mikael', 'Eigil', 'Iris', 'Jennifer', 'August','Tina']"
   ]
  },
  {
   "cell_type": "code",
   "execution_count": 2,
   "id": "15ecad62-8aa6-4e33-a618-4dbcda5c4012",
   "metadata": {
    "tags": []
   },
   "outputs": [],
   "source": [
    "dagens_tilstede = [\"Jørgen\",\"Martin\", \"August\", \"Jennifer\",\"Iris\",\"Marcela\",\"Karl Erik\"]"
   ]
  },
  {
   "cell_type": "code",
   "execution_count": 3,
   "id": "0d459789-31c7-453b-801d-174098ea2ccb",
   "metadata": {
    "tags": []
   },
   "outputs": [],
   "source": [
    "import random\n",
    "import time\n",
    "from colorama import Fore, Style, init\n",
    "\n",
    "# Initialiser farger\n",
    "init(autoreset=True)\n",
    "\n",
    "class JulekalenderTrekning:\n",
    "    def __init__(self, deltakere, vinnere_historikk=None):\n",
    "        self.deltakere = {navn: 1.0 for navn in deltakere}\n",
    "        self.vinnere = []\n",
    "\n",
    "        if vinnere_historikk:\n",
    "            self.gjenopprett_vinnerhistorikk(vinnere_historikk)\n",
    "\n",
    "    def velg_tilstede(self, tilstede):\n",
    "        self.tilstede = {navn: self.deltakere[navn] for navn in tilstede if navn in self.deltakere}\n",
    "\n",
    "    def trekk_vinner(self):\n",
    "        if not self.tilstede:\n",
    "            print(\"Ingen tilstede for trekking!\")\n",
    "            return None\n",
    "\n",
    "        # Snurr hjul og velg en tilfeldig deltaker\n",
    "        navn = self.snurr_hjul(list(self.tilstede.keys()))\n",
    "\n",
    "        # Oppdater vekt for vinneren\n",
    "        self.deltakere[navn] *= 0.5\n",
    "        self.vinnere.append(navn)\n",
    "        return navn\n",
    "\n",
    "    def vis_vekter(self):\n",
    "        return self.deltakere\n",
    "\n",
    "    def hent_vinnere(self):\n",
    "        return self.vinnere\n",
    "\n",
    "    def gjenopprett_vinnerhistorikk(self, vinnere_historikk):\n",
    "        for vinner in vinnere_historikk:\n",
    "            if vinner in self.deltakere:\n",
    "                self.deltakere[vinner] *= 0.5\n",
    "        self.vinnere = vinnere_historikk[:]\n",
    "\n",
    "    def snurr_hjul(self, tilstede):\n",
    "        print(\"\\n🎡 Snurrer hjulet! 🎡\\n\")\n",
    "\n",
    "        # Hent vektene for deltakerne som er tilstede\n",
    "        vekter = [self.deltakere[navn] for navn in tilstede]\n",
    "\n",
    "        display_text = \"\"\n",
    "        for i in range(40):  # Øk antall iterasjoner for en lengre snurring\n",
    "            # Velg deltaker basert på vektene\n",
    "            valgt = random.choices(tilstede, weights=vekter, k=1)[0]\n",
    "\n",
    "            # Visualisering av spinnet\n",
    "            display_text = f\"{Fore.GREEN if i % 2 == 0 else Fore.RED}{Style.BRIGHT}--> {valgt} <--\"\n",
    "            print(f\"\\r{display_text.center(50)}\", end=\"\")\n",
    "            time.sleep(0.05 + i * 0.01)  # Øk pausen gradvis\n",
    "\n",
    "        print(f\"\\n\\n🎉 {Fore.YELLOW}{Style.BRIGHT}Vinneren er: {valgt}! 🎉\")\n",
    "        return valgt\n",
    "\n",
    "\n",
    "def vis_juletema():\n",
    "    print(\"\"\"\n",
    "        🎄 God Jul! 🎄\n",
    "        .      *    *           *.       *   .                      *     .\n",
    "                       .   .                   __   *    .     * .     *\n",
    "            *       *         *   .     .    _|__|_        *    __   .       *\n",
    "          .  *  /\\       /\\          *        ('')    *       _|__|_     .\n",
    "               /  \\   * /  \\  *          .  <( . )> *  .       ('')   *   *\n",
    "          *    /  \\     /  \\   .   *       _(__.__)_  _   ,--<(  . )>  .    .\n",
    "              /    \\   /    \\          *   |       |  )),`   (   .  )     *\n",
    "           *   `||` ..  `||`   . *.   ... ==========='`   ... '--`-` ... * \n",
    "        \n",
    "       🎅 MERRY CHRISTMAS! 🎁\n",
    "    \"\"\")\n",
    "\n",
    "# Hovedprogram\n",
    "alle_deltakere = [\n",
    "    \"Jørgen\", \"August\", \"Kjetil\", \"Joel\", \"Eigil\", \"Jonas L\", \"Sarah\", \"Jennifer\", \"Peder\", \"Kristin\", \"Tina\", \n",
    "    \"Martin\", \"Maria\", \"Heidi\", \"Thomas\", \"Marianne\", \"Karl Erik\", \"Iris\", \"Jonas B\", \"Samuel\", \"Ingvild\", \n",
    "    \"Marcela\", \"Mikael\", \"Ove\", \"Stian\"\n",
    "]\n",
    "\n",
    "\n",
    "\n",
    "# Initialiser kalenderen med historikk\n",
    "kalender = JulekalenderTrekning(alle_deltakere, vinnere_historikk=tidligere_vinnere)\n"
   ]
  },
  {
   "cell_type": "code",
   "execution_count": 5,
   "id": "9a4630dd-9faf-4c24-9233-b87bff1143a2",
   "metadata": {
    "tags": []
   },
   "outputs": [
    {
     "name": "stdout",
     "output_type": "stream",
     "text": [
      "\n",
      "        🎄 God Jul! 🎄\n",
      "        .      *    *           *.       *   .                      *     .\n",
      "                       .   .                   __   *    .     * .     *\n",
      "            *       *         *   .     .    _|__|_        *    __   .       *\n",
      "          .  *  /\\       /\\          *        ('')    *       _|__|_     .\n",
      "               /  \\   * /  \\  *          .  <( . )> *  .       ('')   *   *\n",
      "          *    /  \\     /  \\   .   *       _(__.__)_  _   ,--<(  . )>  .    .\n",
      "              /    \\   /    \\          *   |       |  )),`   (   .  )     *\n",
      "           *   `||` ..  `||`   . *.   ... ==========='`   ... '--`-` ... * \n",
      "        \n",
      "       🎅 MERRY CHRISTMAS! 🎁\n",
      "    \n",
      "\n",
      "🎡 Snurrer hjulet! 🎡\n",
      "\n",
      "              > Karl Erik <--            --> Martin <--              --> Iris <--               --> Marcela <--             --> Karl Erik <--            --> Marcela <--             --> Jennifer <--             --> Iris <--               --> Iris <--               --> Jennifer <--             --> August <--              --> Iris <--               --> Marcela <--             --> Martin <--              --> Karl Erik <--            --> August <--              --> Jørgen <--              --> Jørgen <--              --> Jennifer <--             --> Jørgen <--              --> Karl Erik <--            --> Martin <--              --> Jørgen <--              --> Jennifer <--             --> Iris <--               --> Marcela <--             --> Karl Erik <--            --> Jørgen <--              --> Martin <--              --> Karl Erik <--            --> Jennifer <--             --> Jørgen <--              --> Jennifer <--             --> Karl Erik <--            --> Jennifer <--             --> Jennifer <--             --> Jørgen <--              --> Karl Erik <--            --> Karl Erik <--            --> Martin <--              \n",
      "\n",
      "🎉 Vinneren er: Martin! 🎉\n",
      "\n",
      "Dagens vinner er: Martin\n",
      "\n",
      "Nåværende vekter: {'Jørgen': 1.0, 'August': 0.25, 'Kjetil': 1.0, 'Joel': 1.0, 'Eigil': 0.25, 'Jonas L': 0.5, 'Sarah': 1.0, 'Jennifer': 0.5, 'Peder': 1.0, 'Kristin': 0.5, 'Tina': 0.5, 'Martin': 0.5, 'Maria': 1.0, 'Heidi': 1.0, 'Thomas': 1.0, 'Marianne': 1.0, 'Karl Erik': 1.0, 'Iris': 0.5, 'Jonas B': 1.0, 'Samuel': 1.0, 'Ingvild': 1.0, 'Marcela': 0.5, 'Mikael': 0.5, 'Ove': 1.0, 'Stian': 1.0}\n",
      "Vinnere så langt: ['Eigil', 'Kristin', 'Jonas L', 'August', 'Mikael', 'Eigil', 'Iris', 'Jennifer', 'August', 'Tina', 'Marcela', 'Martin']\n"
     ]
    }
   ],
   "source": [
    "vis_juletema()\n",
    "\n",
    "kalender.velg_tilstede(dagens_tilstede)\n",
    "\n",
    "vinner = kalender.trekk_vinner()\n",
    "if vinner:\n",
    "    print(f\"\\n{Fore.CYAN}{Style.BRIGHT}Dagens vinner er: {vinner}\\n\")\n",
    "\n",
    "print(\"Nåværende vekter:\", kalender.vis_vekter())\n",
    "print(\"Vinnere så langt:\", kalender.hent_vinnere())"
   ]
  },
  {
   "cell_type": "code",
   "execution_count": null,
   "id": "ff1c39f7-483c-4474-9b42-de1bf4a70865",
   "metadata": {
    "tags": []
   },
   "outputs": [],
   "source": []
  },
  {
   "cell_type": "code",
   "execution_count": null,
   "id": "82557024-db69-4d82-9ff4-dc40179f5bc9",
   "metadata": {
    "tags": []
   },
   "outputs": [],
   "source": []
  },
  {
   "cell_type": "code",
   "execution_count": null,
   "id": "c70d8e3c-ba5d-4b8a-8c1b-ca824b4a66e9",
   "metadata": {},
   "outputs": [],
   "source": []
  },
  {
   "cell_type": "code",
   "execution_count": null,
   "id": "d6ae901c-a7c3-49d8-976b-d7cfb9aa34f3",
   "metadata": {
    "tags": []
   },
   "outputs": [],
   "source": []
  },
  {
   "cell_type": "code",
   "execution_count": null,
   "id": "37cf7211-df45-458b-9e7f-e0d71ee8b107",
   "metadata": {
    "tags": []
   },
   "outputs": [],
   "source": []
  },
  {
   "cell_type": "code",
   "execution_count": null,
   "id": "612736b0-cd89-455b-ae18-e48fe82a9ad3",
   "metadata": {},
   "outputs": [],
   "source": []
  },
  {
   "cell_type": "code",
   "execution_count": null,
   "id": "67a4e9f8-8fe7-4ef3-9ea1-a8a1524a91d8",
   "metadata": {},
   "outputs": [],
   "source": []
  }
 ],
 "metadata": {
  "kernelspec": {
   "display_name": "Python 3 (ipykernel)",
   "language": "python",
   "name": "python3"
  },
  "language_info": {
   "codemirror_mode": {
    "name": "ipython",
    "version": 3
   },
   "file_extension": ".py",
   "mimetype": "text/x-python",
   "name": "python",
   "nbconvert_exporter": "python",
   "pygments_lexer": "ipython3",
   "version": "3.10.9"
  }
 },
 "nbformat": 4,
 "nbformat_minor": 5
}
